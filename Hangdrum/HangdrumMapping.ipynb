{
 "cells": [
  {
   "cell_type": "markdown",
   "metadata": {},
   "source": [
    "\n",
    "# Hangdrum \n",
    "### Mapping\n",
    "\n",
    "Date: April 17, 2020\n",
    "\n",
    "The objective is to map different hangdrum scales to each other. \n",
    "\n",
    "**Music Scales** \n",
    "\n",
    "On a full-scale piano, there is a total of 88 keys, but there are **only twelve different notes** which are repeated from low to high tones, from the base to the treble.\n",
    "\n",
    "<img src=\"Imgs/PianoScale.png\" width=600/>\n",
    "\n",
    "One way of measuring the difference between scales is through **steps**.\n",
    "\n",
    "**Steps**\n",
    "\n",
    "Refers to the distance between notes. Between C and C# it is one **half step**, and between C and D it is one **whole step**.\n",
    "\n",
    "For the Major Scale this will look like: 2 - 2 - 1 - 2 - 2 - 2 - 1 or Whole, Whole, Half, Whole, Whole, Whole, Half.\n",
    "\n",
    "So we use 2 for whole step and 1 for half step.\n",
    "\n",
    "<img src=\"Imgs/majorScales.png\" width=300/>\n",
    "\n",
    "*Source:* https://www.pianoscales.org/theory.html\n",
    "\n",
    "**Hangdrum Scales**\n",
    "\n",
    "Below images show two differences scales, which we can write in the following format:\n",
    "\n",
    "- B2 - (13) - C4 - (1) - C4# - (1) - D4 - (2) - E4 - (2) - F4# - (1) - G4 - (4) - B4 - (2) - C5# \n",
    "- D3 - (7)  - A3 - (1) - B3b - (2) - C4 - (2) - D4 - (2) - E4  - (1) - F4 - (2) - G4 - (2) - A4\n",
    "\n",
    "<table><tr>\n",
    "<td> <img src=\"Imgs/AlaHD.png\"  style=\"width: 400px;\"/> </td>\n",
    "<td> <img src=\"Imgs/AliHD.png\"  style=\"width: 400px;\"/> </td>\n",
    "</tr></table>\n",
    "<center> Ala' Hangdrum (left) Ali and Yaser's Hangdrum (right) </center>\n",
    "\n"
   ]
  },
  {
   "cell_type": "code",
   "execution_count": null,
   "metadata": {},
   "outputs": [],
   "source": []
  }
 ],
 "metadata": {
  "kernelspec": {
   "display_name": "Python 3",
   "language": "python",
   "name": "python3"
  },
  "language_info": {
   "codemirror_mode": {
    "name": "ipython",
    "version": 3
   },
   "file_extension": ".py",
   "mimetype": "text/x-python",
   "name": "python",
   "nbconvert_exporter": "python",
   "pygments_lexer": "ipython3",
   "version": "3.7.4"
  }
 },
 "nbformat": 4,
 "nbformat_minor": 4
}
